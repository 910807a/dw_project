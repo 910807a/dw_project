{
 "cells": [
  {
   "cell_type": "code",
   "execution_count": null,
   "metadata": {},
   "outputs": [],
   "source": [
    "pip install -U googlemaps"
   ]
  },
  {
   "cell_type": "code",
   "execution_count": null,
   "metadata": {},
   "outputs": [],
   "source": [
    "import googlemaps \n",
    "from datetime import datetime\n",
    "\n",
    "import pandas as pd\n",
    "import numpy\n",
    "\n",
    "from pandas import DataFrame # 데이터프레임 클래스\n",
    "from pandas import Series # 시리즈 클래스\n",
    "from pandas import ExcelFile # Excel 파일을 읽어들이기 위한 클래스\n",
    "from pandas import concat # 행단위 병합기능을 제공하는 함수\n",
    "from pandas import merge # 열단위 병합기능을 제공하는 함수\n",
    "\n",
    "import openpyxl\n",
    "\n",
    "#구글 API 키 인증\n",
    "\n",
    "gmaps = googlemaps.Client(key='API 인증키 입력')"
   ]
  },
  {
   "cell_type": "code",
   "execution_count": null,
   "metadata": {},
   "outputs": [],
   "source": [
    "#엑셀파일 불러오기 - 같은 폴더에 데이터 저장할 것\n",
    "\n",
    "data = pd.read_excel('파일명.xlsx')\n",
    "\n",
    "#엑셀 필드명 불러오기 + 데이터 형태확인\n",
    "\n",
    "print(data.columns) #(열 이름)\n",
    "print(data.shape) #(행, 열)\n",
    "\n"
   ]
  },
  {
   "cell_type": "code",
   "execution_count": null,
   "metadata": {},
   "outputs": [],
   "source": [
    "data_du=data.drop_duplicates('도로명주소')\n",
    "data_du"
   ]
  },
  {
   "cell_type": "code",
   "execution_count": null,
   "metadata": {},
   "outputs": [],
   "source": [
    "#엑셀에서 원하는 열만 추출\n",
    "#'address'는 주소필드명으로 바꿔줄것\n",
    "\n",
    "addr_data = data_du.loc[:,['주소']]\n",
    "\n",
    "#주소열 리스트 데이터로 만들기\n",
    "\n",
    "address = list(addr_data['주소'])\n",
    "print(address[0:5])\n"
   ]
  },
  {
   "cell_type": "code",
   "execution_count": null,
   "metadata": {},
   "outputs": [],
   "source": [
    "#위경도리스트 생성\n",
    "\n",
    "lat = []\n",
    "lng = []\n",
    "\n",
    "\n",
    "#주소 입력 지오코딩\n",
    "\n",
    "for n in address:\n",
    "    try:\n",
    "        x = gmaps.geocode(n, language ='ko')\n",
    "        a = x[0].get('geometry')\n",
    "        lat.append(a['location']['lat'])\n",
    "        lng.append(a['location']['lng'])\n",
    "    except:\n",
    "        lat.append(' ')\n",
    "        lng.append(' ')\n",
    "\n"
   ]
  },
  {
   "cell_type": "code",
   "execution_count": null,
   "metadata": {
    "scrolled": true
   },
   "outputs": [],
   "source": [
    "#데이터프레임화\n",
    "#'주소'컬럼명은 기존데이터의 주소필드명과 동일하게 설정해 줄 것\n",
    "\n",
    "\n",
    "df = pd.DataFrame({'X':lng, 'Y':lat, '주소':address})\n",
    "\n",
    "#데이터 합치기\n",
    "newdata = merge(data_du, df, how='left', on='주소')\n",
    "newdata_1 = newdata.drop_duplicates()\n",
    "\n",
    "newdata_1"
   ]
  },
  {
   "cell_type": "code",
   "execution_count": null,
   "metadata": {},
   "outputs": [],
   "source": [
    "#데이터 저장\n",
    "\n",
    "newdata_1.to_excel('저장파일명.xlsx')\n",
    "newdata_1.to_csv('저장파일명.csv', sep=',', header =True, index=False, mode='w', encoding='CP949')\n",
    "\n"
   ]
  },
  {
   "cell_type": "code",
   "execution_count": null,
   "metadata": {
    "scrolled": true
   },
   "outputs": [],
   "source": [
    "#개별주소 돌리기\n",
    "\n",
    "gmaps.geocode('주소')"
   ]
  }
 ],
 "metadata": {
  "kernelspec": {
   "display_name": "Python 3",
   "language": "python",
   "name": "python3"
  },
  "language_info": {
   "codemirror_mode": {
    "name": "ipython",
    "version": 3
   },
   "file_extension": ".py",
   "mimetype": "text/x-python",
   "name": "python",
   "nbconvert_exporter": "python",
   "pygments_lexer": "ipython3",
   "version": "3.8.5"
  }
 },
 "nbformat": 4,
 "nbformat_minor": 4
}
